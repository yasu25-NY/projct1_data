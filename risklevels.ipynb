{
 "cells": [
  {
   "cell_type": "markdown",
   "id": "b4fd488b-26ca-48e9-9b27-c28ff357a93c",
   "metadata": {},
   "source": [
    "## Final Goal\n",
    "- Prepare risk-level and location data for visualization of tunnel distribution and risk breakdown.\n",
    "\n",
    "## Actions\n",
    "- Convert PDF data to CSV to obtain the number of tunnels by risk level (1–4) and prefecture.\n",
    "- Prepare data for pie charts by risk level using Datawrapper.\n",
    "- Acquire latitude and longitude information for each prefecture (prefectural capital) via the GSI API.\n",
    "- Prepare data to display the number of tunnels owned by each prefecture on a map."
   ]
  },
  {
   "cell_type": "code",
   "execution_count": 3,
   "id": "e550d18b-15d4-48b9-90f1-f72ab3f41cfe",
   "metadata": {},
   "outputs": [
    {
     "name": "stdout",
     "output_type": "stream",
     "text": [
      "Requirement already satisfied: pdfplumber in /Users/gryphony2/.pyenv/versions/3.12.6/lib/python3.12/site-packages (0.11.7)\n",
      "Requirement already satisfied: pandas in /Users/gryphony2/.pyenv/versions/3.12.6/lib/python3.12/site-packages (2.3.0)\n",
      "Requirement already satisfied: pdfminer.six==20250506 in /Users/gryphony2/.pyenv/versions/3.12.6/lib/python3.12/site-packages (from pdfplumber) (20250506)\n",
      "Requirement already satisfied: Pillow>=9.1 in /Users/gryphony2/.pyenv/versions/3.12.6/lib/python3.12/site-packages (from pdfplumber) (11.2.1)\n",
      "Requirement already satisfied: pypdfium2>=4.18.0 in /Users/gryphony2/.pyenv/versions/3.12.6/lib/python3.12/site-packages (from pdfplumber) (4.30.1)\n",
      "Requirement already satisfied: charset-normalizer>=2.0.0 in /Users/gryphony2/.pyenv/versions/3.12.6/lib/python3.12/site-packages (from pdfminer.six==20250506->pdfplumber) (3.4.2)\n",
      "Requirement already satisfied: cryptography>=36.0.0 in /Users/gryphony2/.pyenv/versions/3.12.6/lib/python3.12/site-packages (from pdfminer.six==20250506->pdfplumber) (45.0.4)\n",
      "Requirement already satisfied: numpy>=1.26.0 in /Users/gryphony2/.pyenv/versions/3.12.6/lib/python3.12/site-packages (from pandas) (2.3.1)\n",
      "Requirement already satisfied: python-dateutil>=2.8.2 in /Users/gryphony2/.pyenv/versions/3.12.6/lib/python3.12/site-packages (from pandas) (2.9.0.post0)\n",
      "Requirement already satisfied: pytz>=2020.1 in /Users/gryphony2/.pyenv/versions/3.12.6/lib/python3.12/site-packages (from pandas) (2025.2)\n",
      "Requirement already satisfied: tzdata>=2022.7 in /Users/gryphony2/.pyenv/versions/3.12.6/lib/python3.12/site-packages (from pandas) (2025.2)\n",
      "Requirement already satisfied: cffi>=1.14 in /Users/gryphony2/.pyenv/versions/3.12.6/lib/python3.12/site-packages (from cryptography>=36.0.0->pdfminer.six==20250506->pdfplumber) (1.17.1)\n",
      "Requirement already satisfied: pycparser in /Users/gryphony2/.pyenv/versions/3.12.6/lib/python3.12/site-packages (from cffi>=1.14->cryptography>=36.0.0->pdfminer.six==20250506->pdfplumber) (2.22)\n",
      "Requirement already satisfied: six>=1.5 in /Users/gryphony2/.pyenv/versions/3.12.6/lib/python3.12/site-packages (from python-dateutil>=2.8.2->pandas) (1.17.0)\n"
     ]
    }
   ],
   "source": [
    "!pip install pdfplumber pandas"
   ]
  },
  {
   "cell_type": "code",
   "execution_count": 11,
   "id": "d5c80dbc-aeb3-485f-8e80-f8d77df6f486",
   "metadata": {},
   "outputs": [
    {
     "name": "stdout",
     "output_type": "stream",
     "text": [
      "risklocal.csv に書き出しました\n",
      "risknation.csv に書き出しました\n",
      "riskprefec.csv に書き出しました\n"
     ]
    }
   ],
   "source": [
    "import pdfplumber\n",
    "import pandas as pd\n",
    "\n",
    "\n",
    "pdf_files = [\n",
    "    \"risklocal.pdf\",\n",
    "    \"risknation.pdf\",\n",
    "    \"riskprefec.pdf\"\n",
    "]\n",
    "\n",
    "for pdf in pdf_files:\n",
    "    rows = []\n",
    "    with pdfplumber.open(pdf) as pdf_in:\n",
    "        for page in pdf_in.pages:\n",
    "            table = page.extract_table()\n",
    "            if table:\n",
    "                for row in table[1:]:\n",
    "                    if not row[0] or \"所在する\" in row[0] or \"判定区分\" in row[0]:\n",
    "                        continue\n",
    "                    rows.append({\n",
    "                        \"都道府県\": row[0],\n",
    "                        \"合計\": row[1],\n",
    "                        \"Ⅰ\": row[2],\n",
    "                        \"Ⅱ\": row[3],\n",
    "                        \"Ⅲ\": row[4],\n",
    "                        \"Ⅳ\": row[5]\n",
    "                    })\n",
    "    if rows:\n",
    "        df = pd.DataFrame(rows)\n",
    "        for col in [\"合計\", \"Ⅰ\", \"Ⅱ\", \"Ⅲ\", \"Ⅳ\"]:\n",
    "            df[col] = df[col].str.replace(\",\", \"\").astype(int)\n",
    "        csv_name = pdf.replace(\".pdf\", \".csv\")\n",
    "        df.to_csv(csv_name, index=False, encoding=\"utf-8-sig\")\n",
    "        print(f\"write{csv_name}\")\n",
    "    else:\n",
    "        print(f\"{pdf}: no table\")"
   ]
  },
  {
   "cell_type": "code",
   "execution_count": null,
   "id": "2c12bf00-b418-493a-bbd3-944a6206f885",
   "metadata": {},
   "outputs": [],
   "source": [
    "import pandas as pd"
   ]
  },
  {
   "cell_type": "code",
   "execution_count": 13,
   "id": "38a8a27f-172c-466c-9430-31ca579b18c6",
   "metadata": {},
   "outputs": [
    {
     "name": "stdout",
     "output_type": "stream",
     "text": [
      "  都道府県   合計   Ⅰ    Ⅱ    Ⅲ  Ⅳ\n",
      "0  北海道  929  84  537  306  2\n",
      "1  青森県  108   0   82   26  0\n",
      "2  岩手県  611  24  368  219  0\n",
      "3  宮城県  270  10  133  127  0\n",
      "4  秋田県  310   2  186  122  0\n"
     ]
    }
   ],
   "source": [
    "riskprefec = pd.read_csv(\"riskprefec.csv\", encoding=\"utf-8-sig\")\n",
    "risknation = pd.read_csv(\"risknation.csv\", encoding=\"utf-8-sig\")\n",
    "risklocal = pd.read_csv(\"risklocal.csv\", encoding=\"utf-8-sig\")\n",
    "\n",
    "merged = (\n",
    "    riskprefec.set_index(\"都道府県\") +\n",
    "    risknation.set_index(\"都道府県\") +\n",
    "    risklocal.set_index(\"都道府県\")\n",
    ")\n",
    "\n",
    "merged = merged.reset_index()\n",
    "merged.to_csv(\"merged_sum_risk_data.csv\", index=False, encoding=\"utf-8-sig\")\n",
    "\n",
    "print(merged.head())"
   ]
  },
  {
   "cell_type": "code",
   "execution_count": 17,
   "id": "64f64254-8b92-4a74-b565-8d99d9f9b556",
   "metadata": {},
   "outputs": [
    {
     "name": "stdout",
     "output_type": "stream",
     "text": [
      "合計: 99.99\n",
      "  危険度レベル     件数  割合(%)\n",
      "0      Ⅰ    537   2.63\n",
      "1      Ⅱ  13696  67.18\n",
      "2      Ⅲ   6099  29.91\n",
      "3      Ⅳ     56   0.27\n"
     ]
    }
   ],
   "source": [
    "df = pd.read_csv(\"merged_sum_risk_data.csv\", encoding=\"utf-8-sig\")\n",
    "\n",
    "df_no_total = df[df[\"都道府県\"] != \"合計\"]\n",
    "\n",
    "level_sums = df_no_total[[\"Ⅰ\", \"Ⅱ\", \"Ⅲ\", \"Ⅳ\"]].sum()\n",
    "total_tunnels = level_sums.sum()\n",
    "\n",
    "level_ratios = (level_sums / total_tunnels * 100).round(2)\n",
    "\n",
    "print(\"合計:\", level_ratios.sum())  # 100.0 になる\n",
    "\n",
    "result = pd.DataFrame({\n",
    "    \"危険度レベル\": [\"Ⅰ\", \"Ⅱ\", \"Ⅲ\", \"Ⅳ\"],\n",
    "    \"件数\": level_sums.values,\n",
    "    \"割合(%)\": level_ratios.values\n",
    "})\n",
    "\n",
    "result.to_csv(\"risk_level_ratios.csv\", index=False, encoding=\"utf-8-sig\")\n",
    "print(result)"
   ]
  },
  {
   "cell_type": "code",
   "execution_count": 20,
   "id": "ecc0d836-188c-484d-a98a-59889069d66b",
   "metadata": {},
   "outputs": [
    {
     "name": "stdout",
     "output_type": "stream",
     "text": [
      "  都道府県   合計   Ⅰ    Ⅱ    Ⅲ  Ⅳ         緯度          経度\n",
      "0  北海道  929  84  537  306  2  43.064323  141.346878\n",
      "1  青森県  108   0   82   26  0  40.824589  140.740555\n",
      "2  岩手県  611  24  368  219  0  39.703526  141.152695\n",
      "3  宮城県  270  10  133  127  0  38.268578  140.872070\n",
      "4  秋田県  310   2  186  122  0  39.718624  140.102386\n"
     ]
    }
   ],
   "source": [
    "import requests\n",
    "import urllib.parse\n",
    "import time\n",
    "\n",
    "file_path = 'merged_sum_risk_data.csv'\n",
    "df = pd.read_csv(file_path)\n",
    "\n",
    "def make_address(pref):\n",
    "    if pref.endswith('都'):\n",
    "        return pref + '庁'\n",
    "    elif pref.endswith('道'):\n",
    "        return pref + '庁'\n",
    "    elif pref.endswith('府'):\n",
    "        return pref + '庁'\n",
    "    elif pref.endswith('県'):\n",
    "        return pref + '庁'\n",
    "    else:\n",
    "        return pref\n",
    "\n",
    "def get_lat_lon(address):\n",
    "    base_url = \"https://msearch.gsi.go.jp/address-search/AddressSearch\"\n",
    "    params = {\"q\": address}\n",
    "    try:\n",
    "        response = requests.get(base_url, params=params, timeout=5)\n",
    "        response.raise_for_status()\n",
    "        data = response.json()\n",
    "        # 完全一致するタイトルを探す\n",
    "        for row in data:\n",
    "            if row[\"properties\"][\"title\"] == address:\n",
    "                coords = row[\"geometry\"][\"coordinates\"]  # [経度, 緯度]\n",
    "                return coords[1], coords[0]\n",
    "        # 完全一致がなければ最初の候補\n",
    "        if data:\n",
    "            coords = data[0][\"geometry\"][\"coordinates\"]\n",
    "            return coords[1], coords[0]\n",
    "    except Exception as e:\n",
    "        print(f\"Error fetching {address}: {e}\")\n",
    "    return None, None\n",
    "\n",
    "latitudes = []\n",
    "longitudes = []\n",
    "\n",
    "for pref in df['都道府県']:\n",
    "    address = make_address(pref)\n",
    "    lat, lon = get_lat_lon(address)\n",
    "    latitudes.append(lat)\n",
    "    longitudes.append(lon)\n",
    "    time.sleep(0.2)  # API負荷軽減\n",
    "\n",
    "df['緯度'] = latitudes\n",
    "df['経度'] = longitudes\n",
    "\n",
    "print(df.head())\n",
    "\n",
    "output_file = 'merged_sum_risk_data_with_latlon_gsi.csv'\n",
    "df.to_csv(output_file, index=False, encoding='utf-8-sig')\n"
   ]
  },
  {
   "cell_type": "code",
   "execution_count": null,
   "id": "8e2f03e4-2f32-412f-b8fd-e300ecf2f058",
   "metadata": {},
   "outputs": [],
   "source": []
  }
 ],
 "metadata": {
  "kernelspec": {
   "display_name": "Python 3 (ipykernel)",
   "language": "python",
   "name": "python3"
  },
  "language_info": {
   "codemirror_mode": {
    "name": "ipython",
    "version": 3
   },
   "file_extension": ".py",
   "mimetype": "text/x-python",
   "name": "python",
   "nbconvert_exporter": "python",
   "pygments_lexer": "ipython3",
   "version": "3.12.6"
  }
 },
 "nbformat": 4,
 "nbformat_minor": 5
}
